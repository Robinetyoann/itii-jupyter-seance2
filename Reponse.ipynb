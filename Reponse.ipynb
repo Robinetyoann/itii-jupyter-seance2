{
 "cells": [
  {
   "cell_type": "code",
   "execution_count": 6,
   "metadata": {},
   "outputs": [
    {
     "name": "stdout",
     "output_type": "stream",
     "text": [
      "5\n",
      "14\n",
      "10\n",
      "30\n"
     ]
    }
   ],
   "source": [
    "#Exercice 1 :\n",
    "\n",
    "class Rectangle:\n",
    "  def __init__(self,longueur, largeur):\n",
    "    self.Longueur=longueur\n",
    "    self.Largeur=largeur\n",
    "  \n",
    "  def getLongueur(self):\n",
    "    return self.Longueur\n",
    "\n",
    "  def getLongueur(self):\n",
    "    return self.Largeur\n",
    "\n",
    "  def Perimetre(self):\n",
    "    return self.Largeur * 2 + self.Longueur * 2\n",
    "  \n",
    "  def Surface(self):\n",
    "    return self.Largeur * self.Longueur \n",
    "\n",
    "class Parallelepipede (Rectangle):\n",
    "  def __init__(self, longueur, largeur, hauteur):\n",
    "    Rectangle.__init__(self, longueur, largeur)\n",
    "    self.Hauteur = hauteur\n",
    "    \n",
    "  def volume(self):\n",
    "    return self.Largeur * self.Longueur * self.Hauteur\n",
    "\n",
    "rect1 = Rectangle(2,5)\n",
    "print(rect1.getLongueur())\n",
    "print(rect1.Perimetre())\n",
    "print(rect1.Surface())\n",
    "\n",
    "para1 = Parallelepipede(2,5,3)\n",
    "print(para1.volume())"
   ]
  },
  {
   "cell_type": "code",
   "execution_count": 12,
   "metadata": {},
   "outputs": [
    {
     "name": "stdout",
     "output_type": "stream",
     "text": [
      "x=3;y=4\n",
      "(x=8;y=10)\n"
     ]
    }
   ],
   "source": [
    "#Exercice 2 :\n",
    "\n",
    "class Vecteur2D:\n",
    "  def __init__(self,x,y):\n",
    "    self.X=x\n",
    "    self.Y=y\n",
    "  def __str__(self):\n",
    "    return \"x=\"+str(self.X)+\";y=\"+str(self.Y)\n",
    "  \n",
    "  def addition(self,object):\n",
    "    x = self.X + object.X\n",
    "    y = self.Y + object.Y\n",
    "    \n",
    "    return \"(x=\"+ str(x)+\";y=\"+str(y)+\")\"\n",
    "    \n",
    "vec1 = Vecteur2D(3,4)\n",
    "vec2 = Vecteur2D(5,6)\n",
    "\n",
    "print(vec1.__str__())\n",
    "print(vec1.addition(vec2))\n",
    "  \n",
    "  "
   ]
  },
  {
   "cell_type": "code",
   "execution_count": 24,
   "metadata": {},
   "outputs": [
    {
     "data": {
      "text/plain": [
       "'3, 4'"
      ]
     },
     "execution_count": 24,
     "metadata": {},
     "output_type": "execute_result"
    }
   ],
   "source": [
    "#Exercice 3 : \n",
    "\n",
    "class File(object):\n",
    "    \n",
    "  def __init__(self):\n",
    "    self.liste = [] \n",
    "  def push(self, elm):\n",
    "    self.liste.append(elm);\n",
    "  def pop(self):\n",
    "    del self.liste[-1]\n",
    "    \n",
    "  def __str__(self):\n",
    "    return str(self.liste)[1:-1]  \n",
    "       \n",
    "    \n",
    "\n",
    "liste = File()\n",
    "liste.push(3)\n",
    "liste.push(4)\n",
    "liste.push(5)\n",
    "liste.pop()\n",
    "liste.__str__()\n",
    "\n",
    "#utiliser méthode pop de python(déjà existante) pour la method pop de la class Pile"
   ]
  },
  {
   "cell_type": "code",
   "execution_count": null,
   "metadata": {},
   "outputs": [],
   "source": []
  },
  {
   "cell_type": "code",
   "execution_count": null,
   "metadata": {},
   "outputs": [],
   "source": []
  },
  {
   "cell_type": "code",
   "execution_count": null,
   "metadata": {},
   "outputs": [],
   "source": []
  },
  {
   "cell_type": "code",
   "execution_count": null,
   "metadata": {},
   "outputs": [],
   "source": []
  }
 ],
 "metadata": {
  "kernelspec": {
   "display_name": "Python 3",
   "language": "python",
   "name": "python3"
  },
  "language_info": {
   "codemirror_mode": {
    "name": "ipython",
    "version": 3
   },
   "file_extension": ".py",
   "mimetype": "text/x-python",
   "name": "python",
   "nbconvert_exporter": "python",
   "pygments_lexer": "ipython3",
   "version": "3.7.6"
  }
 },
 "nbformat": 4,
 "nbformat_minor": 4
}
